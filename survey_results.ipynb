{
 "cells": [
  {
   "cell_type": "markdown",
   "source": [
    "1. Displays rows of column 'Employment'"
   ],
   "metadata": {
    "collapsed": false
   },
   "id": "ea87a32bd987d70b"
  },
  {
   "cell_type": "code",
   "execution_count": 5,
   "outputs": [],
   "source": [
    "import pandas as pd\n",
    "\n",
    "# df = pd.read_csv('survey_results_public.csv')\n",
    "\n",
    "# df['Employment']"
   ],
   "metadata": {
    "collapsed": false,
    "ExecuteTime": {
     "start_time": "2024-04-11T18:17:26.208195100Z"
    }
   },
   "id": "initial_id"
  },
  {
   "cell_type": "raw",
   "source": [
    "2. Indexing with column 'YearsCode'"
   ],
   "metadata": {
    "collapsed": false
   },
   "id": "6c97ba7ad5210242"
  },
  {
   "cell_type": "code",
   "execution_count": 6,
   "outputs": [
    {
     "data": {
      "text/plain": "           ResponseId     Q120                      MainBranch  \\\nYearsCode                                                        \nNaN                 1  I agree                   None of these   \n18                  2  I agree  I am a developer by profession   \n27                  3  I agree  I am a developer by profession   \n12                  4  I agree  I am a developer by profession   \n6                   5  I agree  I am a developer by profession   \n...               ...      ...                             ...   \n20              89180  I agree  I am a developer by profession   \n5               89181  I agree  I am a developer by profession   \n10              89182  I agree     I code primarily as a hobby   \n3               89183  I agree  I am a developer by profession   \n17              89184  I agree  I am a developer by profession   \n\n                          Age  \\\nYearsCode                       \nNaN           18-24 years old   \n18            25-34 years old   \n27            45-54 years old   \n12            25-34 years old   \n6             25-34 years old   \n...                       ...   \n20            25-34 years old   \n5             18-24 years old   \n10          Prefer not to say   \n3          Under 18 years old   \n17            35-44 years old   \n\n                                                  Employment  \\\nYearsCode                                                      \nNaN                                                      NaN   \n18                                       Employed, full-time   \n27                                       Employed, full-time   \n12                                       Employed, full-time   \n6          Employed, full-time;Independent contractor, fr...   \n...                                                      ...   \n20         Employed, full-time;Independent contractor, fr...   \n5                     Student, full-time;Employed, part-time   \n10                                       I prefer not to say   \n3                     Employed, part-time;Student, part-time   \n17                                       Employed, full-time   \n\n                                     RemoteWork  \\\nYearsCode                                         \nNaN                                         NaN   \n18                                       Remote   \n27         Hybrid (some remote, some in-person)   \n12         Hybrid (some remote, some in-person)   \n6                                        Remote   \n...                                         ...   \n20                                       Remote   \n5          Hybrid (some remote, some in-person)   \n10                                          NaN   \n3          Hybrid (some remote, some in-person)   \n17         Hybrid (some remote, some in-person)   \n\n                                            CodingActivities  \\\nYearsCode                                                      \nNaN                                                      NaN   \n18         Hobby;Contribute to open-source projects;Boots...   \n27         Hobby;Professional development or self-paced l...   \n12                                                     Hobby   \n6          Hobby;Contribute to open-source projects;Profe...   \n...                                                      ...   \n20         Hobby;Bootstrapping a business;Freelance/contr...   \n5                                    School or academic work   \n10                                                       NaN   \n3                              Hobby;School or academic work   \n17         Hobby;Professional development or self-paced l...   \n\n                                                     EdLevel  \\\nYearsCode                                                      \nNaN                                                      NaN   \n18              Bachelor’s degree (B.A., B.S., B.Eng., etc.)   \n27              Bachelor’s degree (B.A., B.S., B.Eng., etc.)   \n12              Bachelor’s degree (B.A., B.S., B.Eng., etc.)   \n6               Bachelor’s degree (B.A., B.S., B.Eng., etc.)   \n...                                                      ...   \n20                       Associate degree (A.A., A.S., etc.)   \n5               Bachelor’s degree (B.A., B.S., B.Eng., etc.)   \n10                                            Something else   \n3          Secondary school (e.g. American high school, G...   \n17              Bachelor’s degree (B.A., B.S., B.Eng., etc.)   \n\n                                                   LearnCode  \\\nYearsCode                                                      \nNaN                                                      NaN   \n18         Books / Physical media;Colleague;Friend or fam...   \n27         Books / Physical media;Colleague;On the job tr...   \n12         Colleague;Friend or family member;Other online...   \n6          Books / Physical media;Online Courses or Certi...   \n...                                                      ...   \n20         Online Courses or Certification;Other online r...   \n5          Colleague;Online Courses or Certification;Othe...   \n10         Books / Physical media;Hackathons (virtual or ...   \n3          Online Courses or Certification;Other online r...   \n17         Colleague;Online Courses or Certification;Othe...   \n\n                                             LearnCodeOnline  ...  \\\nYearsCode                                                     ...   \nNaN                                                      NaN  ...   \n18         Formal documentation provided by the owner of ...  ...   \n27         Formal documentation provided by the owner of ...  ...   \n12         Formal documentation provided by the owner of ...  ...   \n6          Formal documentation provided by the owner of ...  ...   \n...                                                      ...  ...   \n20         Formal documentation provided by the owner of ...  ...   \n5          Formal documentation provided by the owner of ...  ...   \n10                                                       NaN  ...   \n3          Formal documentation provided by the owner of ...  ...   \n17         Formal documentation provided by the owner of ...  ...   \n\n                 Frequency_1        Frequency_2       Frequency_3  \\\nYearsCode                                                           \nNaN                      NaN                NaN               NaN   \n18          1-2 times a week   10+ times a week             Never   \n27         6-10 times a week  6-10 times a week  3-5 times a week   \n12          1-2 times a week   10+ times a week  1-2 times a week   \n6           1-2 times a week   1-2 times a week  3-5 times a week   \n...                      ...                ...               ...   \n20                       NaN                NaN               NaN   \n5                        NaN                NaN               NaN   \n10                       NaN                NaN               NaN   \n3                        NaN                NaN               NaN   \n17                     Never   1-2 times a week  1-2 times a week   \n\n                  TimeSearching        TimeAnswering  \\\nYearsCode                                              \nNaN                         NaN                  NaN   \n18          15-30 minutes a day  15-30 minutes a day   \n27          30-60 minutes a day  30-60 minutes a day   \n12          15-30 minutes a day  30-60 minutes a day   \n6          60-120 minutes a day  30-60 minutes a day   \n...                         ...                  ...   \n20                          NaN                  NaN   \n5                           NaN                  NaN   \n10                          NaN                  NaN   \n3                           NaN                  NaN   \n17         60-120 minutes a day  30-60 minutes a day   \n\n                                            ProfessionalTech  \\\nYearsCode                                                      \nNaN                                                      NaN   \n18         DevOps function;Microservices;Automated testin...   \n27         DevOps function;Microservices;Automated testin...   \n12         Automated testing;Continuous integration (CI) ...   \n6          Microservices;Automated testing;Observability ...   \n...                                                      ...   \n20                                                       NaN   \n5                                                        NaN   \n10                                                       NaN   \n3                                                        NaN   \n17         DevOps function;Developer portal or other cent...   \n\n                                                    Industry  \\\nYearsCode                                                      \nNaN                                                      NaN   \n18         Information Services, IT, Software Development...   \n27         Information Services, IT, Software Development...   \n12                                                       NaN   \n6                                                      Other   \n...                                                      ...   \n20                                                       NaN   \n5                                                        NaN   \n10                                                       NaN   \n3                                                        NaN   \n17         Information Services, IT, Software Development...   \n\n                    SurveyLength                  SurveyEase  \\\nYearsCode                                                      \nNaN                          NaN                         NaN   \n18         Appropriate in length                        Easy   \n27         Appropriate in length                        Easy   \n12         Appropriate in length                        Easy   \n6          Appropriate in length  Neither easy nor difficult   \n...                          ...                         ...   \n20                      Too long  Neither easy nor difficult   \n5                       Too long                        Easy   \n10                      Too long  Neither easy nor difficult   \n3          Appropriate in length  Neither easy nor difficult   \n17         Appropriate in length                        Easy   \n\n           ConvertedCompYearly  \nYearsCode                       \nNaN                        NaN  \n18                    285000.0  \n27                    250000.0  \n12                    156000.0  \n6                      23456.0  \n...                        ...  \n20                         NaN  \n5                          NaN  \n10                         NaN  \n3                          NaN  \n17                         NaN  \n\n[89184 rows x 83 columns]",
      "text/html": "<div>\n<style scoped>\n    .dataframe tbody tr th:only-of-type {\n        vertical-align: middle;\n    }\n\n    .dataframe tbody tr th {\n        vertical-align: top;\n    }\n\n    .dataframe thead th {\n        text-align: right;\n    }\n</style>\n<table border=\"1\" class=\"dataframe\">\n  <thead>\n    <tr style=\"text-align: right;\">\n      <th></th>\n      <th>ResponseId</th>\n      <th>Q120</th>\n      <th>MainBranch</th>\n      <th>Age</th>\n      <th>Employment</th>\n      <th>RemoteWork</th>\n      <th>CodingActivities</th>\n      <th>EdLevel</th>\n      <th>LearnCode</th>\n      <th>LearnCodeOnline</th>\n      <th>...</th>\n      <th>Frequency_1</th>\n      <th>Frequency_2</th>\n      <th>Frequency_3</th>\n      <th>TimeSearching</th>\n      <th>TimeAnswering</th>\n      <th>ProfessionalTech</th>\n      <th>Industry</th>\n      <th>SurveyLength</th>\n      <th>SurveyEase</th>\n      <th>ConvertedCompYearly</th>\n    </tr>\n    <tr>\n      <th>YearsCode</th>\n      <th></th>\n      <th></th>\n      <th></th>\n      <th></th>\n      <th></th>\n      <th></th>\n      <th></th>\n      <th></th>\n      <th></th>\n      <th></th>\n      <th></th>\n      <th></th>\n      <th></th>\n      <th></th>\n      <th></th>\n      <th></th>\n      <th></th>\n      <th></th>\n      <th></th>\n      <th></th>\n      <th></th>\n    </tr>\n  </thead>\n  <tbody>\n    <tr>\n      <th>NaN</th>\n      <td>1</td>\n      <td>I agree</td>\n      <td>None of these</td>\n      <td>18-24 years old</td>\n      <td>NaN</td>\n      <td>NaN</td>\n      <td>NaN</td>\n      <td>NaN</td>\n      <td>NaN</td>\n      <td>NaN</td>\n      <td>...</td>\n      <td>NaN</td>\n      <td>NaN</td>\n      <td>NaN</td>\n      <td>NaN</td>\n      <td>NaN</td>\n      <td>NaN</td>\n      <td>NaN</td>\n      <td>NaN</td>\n      <td>NaN</td>\n      <td>NaN</td>\n    </tr>\n    <tr>\n      <th>18</th>\n      <td>2</td>\n      <td>I agree</td>\n      <td>I am a developer by profession</td>\n      <td>25-34 years old</td>\n      <td>Employed, full-time</td>\n      <td>Remote</td>\n      <td>Hobby;Contribute to open-source projects;Boots...</td>\n      <td>Bachelor’s degree (B.A., B.S., B.Eng., etc.)</td>\n      <td>Books / Physical media;Colleague;Friend or fam...</td>\n      <td>Formal documentation provided by the owner of ...</td>\n      <td>...</td>\n      <td>1-2 times a week</td>\n      <td>10+ times a week</td>\n      <td>Never</td>\n      <td>15-30 minutes a day</td>\n      <td>15-30 minutes a day</td>\n      <td>DevOps function;Microservices;Automated testin...</td>\n      <td>Information Services, IT, Software Development...</td>\n      <td>Appropriate in length</td>\n      <td>Easy</td>\n      <td>285000.0</td>\n    </tr>\n    <tr>\n      <th>27</th>\n      <td>3</td>\n      <td>I agree</td>\n      <td>I am a developer by profession</td>\n      <td>45-54 years old</td>\n      <td>Employed, full-time</td>\n      <td>Hybrid (some remote, some in-person)</td>\n      <td>Hobby;Professional development or self-paced l...</td>\n      <td>Bachelor’s degree (B.A., B.S., B.Eng., etc.)</td>\n      <td>Books / Physical media;Colleague;On the job tr...</td>\n      <td>Formal documentation provided by the owner of ...</td>\n      <td>...</td>\n      <td>6-10 times a week</td>\n      <td>6-10 times a week</td>\n      <td>3-5 times a week</td>\n      <td>30-60 minutes a day</td>\n      <td>30-60 minutes a day</td>\n      <td>DevOps function;Microservices;Automated testin...</td>\n      <td>Information Services, IT, Software Development...</td>\n      <td>Appropriate in length</td>\n      <td>Easy</td>\n      <td>250000.0</td>\n    </tr>\n    <tr>\n      <th>12</th>\n      <td>4</td>\n      <td>I agree</td>\n      <td>I am a developer by profession</td>\n      <td>25-34 years old</td>\n      <td>Employed, full-time</td>\n      <td>Hybrid (some remote, some in-person)</td>\n      <td>Hobby</td>\n      <td>Bachelor’s degree (B.A., B.S., B.Eng., etc.)</td>\n      <td>Colleague;Friend or family member;Other online...</td>\n      <td>Formal documentation provided by the owner of ...</td>\n      <td>...</td>\n      <td>1-2 times a week</td>\n      <td>10+ times a week</td>\n      <td>1-2 times a week</td>\n      <td>15-30 minutes a day</td>\n      <td>30-60 minutes a day</td>\n      <td>Automated testing;Continuous integration (CI) ...</td>\n      <td>NaN</td>\n      <td>Appropriate in length</td>\n      <td>Easy</td>\n      <td>156000.0</td>\n    </tr>\n    <tr>\n      <th>6</th>\n      <td>5</td>\n      <td>I agree</td>\n      <td>I am a developer by profession</td>\n      <td>25-34 years old</td>\n      <td>Employed, full-time;Independent contractor, fr...</td>\n      <td>Remote</td>\n      <td>Hobby;Contribute to open-source projects;Profe...</td>\n      <td>Bachelor’s degree (B.A., B.S., B.Eng., etc.)</td>\n      <td>Books / Physical media;Online Courses or Certi...</td>\n      <td>Formal documentation provided by the owner of ...</td>\n      <td>...</td>\n      <td>1-2 times a week</td>\n      <td>1-2 times a week</td>\n      <td>3-5 times a week</td>\n      <td>60-120 minutes a day</td>\n      <td>30-60 minutes a day</td>\n      <td>Microservices;Automated testing;Observability ...</td>\n      <td>Other</td>\n      <td>Appropriate in length</td>\n      <td>Neither easy nor difficult</td>\n      <td>23456.0</td>\n    </tr>\n    <tr>\n      <th>...</th>\n      <td>...</td>\n      <td>...</td>\n      <td>...</td>\n      <td>...</td>\n      <td>...</td>\n      <td>...</td>\n      <td>...</td>\n      <td>...</td>\n      <td>...</td>\n      <td>...</td>\n      <td>...</td>\n      <td>...</td>\n      <td>...</td>\n      <td>...</td>\n      <td>...</td>\n      <td>...</td>\n      <td>...</td>\n      <td>...</td>\n      <td>...</td>\n      <td>...</td>\n      <td>...</td>\n    </tr>\n    <tr>\n      <th>20</th>\n      <td>89180</td>\n      <td>I agree</td>\n      <td>I am a developer by profession</td>\n      <td>25-34 years old</td>\n      <td>Employed, full-time;Independent contractor, fr...</td>\n      <td>Remote</td>\n      <td>Hobby;Bootstrapping a business;Freelance/contr...</td>\n      <td>Associate degree (A.A., A.S., etc.)</td>\n      <td>Online Courses or Certification;Other online r...</td>\n      <td>Formal documentation provided by the owner of ...</td>\n      <td>...</td>\n      <td>NaN</td>\n      <td>NaN</td>\n      <td>NaN</td>\n      <td>NaN</td>\n      <td>NaN</td>\n      <td>NaN</td>\n      <td>NaN</td>\n      <td>Too long</td>\n      <td>Neither easy nor difficult</td>\n      <td>NaN</td>\n    </tr>\n    <tr>\n      <th>5</th>\n      <td>89181</td>\n      <td>I agree</td>\n      <td>I am a developer by profession</td>\n      <td>18-24 years old</td>\n      <td>Student, full-time;Employed, part-time</td>\n      <td>Hybrid (some remote, some in-person)</td>\n      <td>School or academic work</td>\n      <td>Bachelor’s degree (B.A., B.S., B.Eng., etc.)</td>\n      <td>Colleague;Online Courses or Certification;Othe...</td>\n      <td>Formal documentation provided by the owner of ...</td>\n      <td>...</td>\n      <td>NaN</td>\n      <td>NaN</td>\n      <td>NaN</td>\n      <td>NaN</td>\n      <td>NaN</td>\n      <td>NaN</td>\n      <td>NaN</td>\n      <td>Too long</td>\n      <td>Easy</td>\n      <td>NaN</td>\n    </tr>\n    <tr>\n      <th>10</th>\n      <td>89182</td>\n      <td>I agree</td>\n      <td>I code primarily as a hobby</td>\n      <td>Prefer not to say</td>\n      <td>I prefer not to say</td>\n      <td>NaN</td>\n      <td>NaN</td>\n      <td>Something else</td>\n      <td>Books / Physical media;Hackathons (virtual or ...</td>\n      <td>NaN</td>\n      <td>...</td>\n      <td>NaN</td>\n      <td>NaN</td>\n      <td>NaN</td>\n      <td>NaN</td>\n      <td>NaN</td>\n      <td>NaN</td>\n      <td>NaN</td>\n      <td>Too long</td>\n      <td>Neither easy nor difficult</td>\n      <td>NaN</td>\n    </tr>\n    <tr>\n      <th>3</th>\n      <td>89183</td>\n      <td>I agree</td>\n      <td>I am a developer by profession</td>\n      <td>Under 18 years old</td>\n      <td>Employed, part-time;Student, part-time</td>\n      <td>Hybrid (some remote, some in-person)</td>\n      <td>Hobby;School or academic work</td>\n      <td>Secondary school (e.g. American high school, G...</td>\n      <td>Online Courses or Certification;Other online r...</td>\n      <td>Formal documentation provided by the owner of ...</td>\n      <td>...</td>\n      <td>NaN</td>\n      <td>NaN</td>\n      <td>NaN</td>\n      <td>NaN</td>\n      <td>NaN</td>\n      <td>NaN</td>\n      <td>NaN</td>\n      <td>Appropriate in length</td>\n      <td>Neither easy nor difficult</td>\n      <td>NaN</td>\n    </tr>\n    <tr>\n      <th>17</th>\n      <td>89184</td>\n      <td>I agree</td>\n      <td>I am a developer by profession</td>\n      <td>35-44 years old</td>\n      <td>Employed, full-time</td>\n      <td>Hybrid (some remote, some in-person)</td>\n      <td>Hobby;Professional development or self-paced l...</td>\n      <td>Bachelor’s degree (B.A., B.S., B.Eng., etc.)</td>\n      <td>Colleague;Online Courses or Certification;Othe...</td>\n      <td>Formal documentation provided by the owner of ...</td>\n      <td>...</td>\n      <td>Never</td>\n      <td>1-2 times a week</td>\n      <td>1-2 times a week</td>\n      <td>60-120 minutes a day</td>\n      <td>30-60 minutes a day</td>\n      <td>DevOps function;Developer portal or other cent...</td>\n      <td>Information Services, IT, Software Development...</td>\n      <td>Appropriate in length</td>\n      <td>Easy</td>\n      <td>NaN</td>\n    </tr>\n  </tbody>\n</table>\n<p>89184 rows × 83 columns</p>\n</div>"
     },
     "execution_count": 6,
     "metadata": {},
     "output_type": "execute_result"
    }
   ],
   "source": [
    "# df = pd.read_csv('survey_results_public.csv', index_col='YearsCode')\n",
    "# df"
   ],
   "metadata": {
    "collapsed": false,
    "ExecuteTime": {
     "start_time": "2024-04-11T18:17:34.388688400Z"
    }
   },
   "id": "68a48b30220fe46f"
  },
  {
   "cell_type": "raw",
   "source": [
    "3. Filtering df and printing 'YearsCode' and 'ConvertedCompYearly' columns where salary is more than 10000 and coding is a 'Hobby'"
   ],
   "metadata": {
    "collapsed": false
   },
   "id": "5034456f4145ed0d"
  },
  {
   "cell_type": "code",
   "execution_count": 15,
   "outputs": [
    {
     "data": {
      "text/plain": "      YearsCode  ConvertedCompYearly\n3            12             156000.0\n7             5              80000.0\n11           10              78003.0\n14           15             187407.0\n16            4              45149.0\n...         ...                  ...\n89148         3              44611.0\n89152        12              32127.0\n89158        11              52981.0\n89160         9              28625.0\n89171        20              61041.0\n\n[10328 rows x 2 columns]",
      "text/html": "<div>\n<style scoped>\n    .dataframe tbody tr th:only-of-type {\n        vertical-align: middle;\n    }\n\n    .dataframe tbody tr th {\n        vertical-align: top;\n    }\n\n    .dataframe thead th {\n        text-align: right;\n    }\n</style>\n<table border=\"1\" class=\"dataframe\">\n  <thead>\n    <tr style=\"text-align: right;\">\n      <th></th>\n      <th>YearsCode</th>\n      <th>ConvertedCompYearly</th>\n    </tr>\n  </thead>\n  <tbody>\n    <tr>\n      <th>3</th>\n      <td>12</td>\n      <td>156000.0</td>\n    </tr>\n    <tr>\n      <th>7</th>\n      <td>5</td>\n      <td>80000.0</td>\n    </tr>\n    <tr>\n      <th>11</th>\n      <td>10</td>\n      <td>78003.0</td>\n    </tr>\n    <tr>\n      <th>14</th>\n      <td>15</td>\n      <td>187407.0</td>\n    </tr>\n    <tr>\n      <th>16</th>\n      <td>4</td>\n      <td>45149.0</td>\n    </tr>\n    <tr>\n      <th>...</th>\n      <td>...</td>\n      <td>...</td>\n    </tr>\n    <tr>\n      <th>89148</th>\n      <td>3</td>\n      <td>44611.0</td>\n    </tr>\n    <tr>\n      <th>89152</th>\n      <td>12</td>\n      <td>32127.0</td>\n    </tr>\n    <tr>\n      <th>89158</th>\n      <td>11</td>\n      <td>52981.0</td>\n    </tr>\n    <tr>\n      <th>89160</th>\n      <td>9</td>\n      <td>28625.0</td>\n    </tr>\n    <tr>\n      <th>89171</th>\n      <td>20</td>\n      <td>61041.0</td>\n    </tr>\n  </tbody>\n</table>\n<p>10328 rows × 2 columns</p>\n</div>"
     },
     "execution_count": 15,
     "metadata": {},
     "output_type": "execute_result"
    }
   ],
   "source": [
    "# df = pd.read_csv('survey_results_public.csv')\n",
    "# filt1 = df['ConvertedCompYearly'] > 10000\n",
    "# filt2 = df['CodingActivities'] == 'Hobby'\n",
    "# filt = filt1 & filt2\n",
    "# df.loc[filt, ['YearsCode', 'ConvertedCompYearly']]"
   ],
   "metadata": {
    "collapsed": false,
    "ExecuteTime": {
     "start_time": "2024-04-11T18:32:52.156171200Z"
    }
   },
   "id": "fe095f9f5b62da61"
  },
  {
   "cell_type": "raw",
   "source": [
    "4. Sorting values by 2 columns: 'RemoteWork', 'YearsCode' where nan position is first"
   ],
   "metadata": {
    "collapsed": false
   },
   "id": "87326e78eca6883c"
  },
  {
   "cell_type": "code",
   "execution_count": 20,
   "outputs": [
    {
     "data": {
      "text/plain": "       ResponseId     Q120                      MainBranch                Age  \\\n0               1  I agree                   None of these    18-24 years old   \n70             71  I agree                   None of these    45-54 years old   \n304           305  I agree                   None of these    18-24 years old   \n733           734  I agree                   None of these    45-54 years old   \n875           876  I agree                   None of these    45-54 years old   \n...           ...      ...                             ...                ...   \n82467       82468  I agree  I am a developer by profession  65 years or older   \n84614       84615  I agree  I am a developer by profession    55-64 years old   \n86686       86687  I agree  I am a developer by profession  65 years or older   \n86795       86796  I agree  I am a developer by profession  65 years or older   \n87384       87385  I agree  I am a developer by profession  65 years or older   \n\n                                              Employment RemoteWork  \\\n0                                                    NaN        NaN   \n70                                                   NaN        NaN   \n304                                                  NaN        NaN   \n733                                                  NaN        NaN   \n875                                                  NaN        NaN   \n...                                                  ...        ...   \n82467  Independent contractor, freelancer, or self-em...     Remote   \n84614                                Employed, full-time     Remote   \n86686                                Employed, full-time     Remote   \n86795                                Employed, full-time     Remote   \n87384  Independent contractor, freelancer, or self-em...     Remote   \n\n                                        CodingActivities  \\\n0                                                    NaN   \n70                                                   NaN   \n304                                                  NaN   \n733                                                  NaN   \n875                                                  NaN   \n...                                                  ...   \n82467                                              Hobby   \n84614  Hobby;Professional development or self-paced l...   \n86686  Hobby;Professional development or self-paced l...   \n86795  Hobby;Contribute to open-source projects;Profe...   \n87384  Hobby;Contribute to open-source projects;Boots...   \n\n                                                 EdLevel  \\\n0                                                    NaN   \n70                                                   NaN   \n304                                                  NaN   \n733                                                  NaN   \n875                                                  NaN   \n...                                                  ...   \n82467    Master’s degree (M.A., M.S., M.Eng., MBA, etc.)   \n84614  Some college/university study without earning ...   \n86686       Bachelor’s degree (B.A., B.S., B.Eng., etc.)   \n86795    Master’s degree (M.A., M.S., M.Eng., MBA, etc.)   \n87384       Bachelor’s degree (B.A., B.S., B.Eng., etc.)   \n\n                                               LearnCode  \\\n0                                                    NaN   \n70                                                   NaN   \n304                                                  NaN   \n733                                                  NaN   \n875                                                  NaN   \n...                                                  ...   \n82467  Books / Physical media;Other online resources ...   \n84614  Books / Physical media;Colleague;Friend or fam...   \n86686  Online Courses or Certification;Other online r...   \n86795  Books / Physical media;On the job training;Oth...   \n87384  Books / Physical media;Other online resources ...   \n\n                                         LearnCodeOnline  ...  \\\n0                                                    NaN  ...   \n70                                                   NaN  ...   \n304                                                  NaN  ...   \n733                                                  NaN  ...   \n875                                                  NaN  ...   \n...                                                  ...  ...   \n82467  Blogs with tips and tricks;Books;How-to videos...  ...   \n84614  Formal documentation provided by the owner of ...  ...   \n86686  Formal documentation provided by the owner of ...  ...   \n86795  Formal documentation provided by the owner of ...  ...   \n87384  Formal documentation provided by the owner of ...  ...   \n\n            Frequency_1       Frequency_2       Frequency_3  \\\n0                   NaN               NaN               NaN   \n70                  NaN               NaN               NaN   \n304                 NaN               NaN               NaN   \n733                 NaN               NaN               NaN   \n875                 NaN               NaN               NaN   \n...                 ...               ...               ...   \n82467               NaN               NaN               NaN   \n84614  1-2 times a week  3-5 times a week             Never   \n86686  1-2 times a week  3-5 times a week             Never   \n86795  1-2 times a week  1-2 times a week  1-2 times a week   \n87384               NaN               NaN               NaN   \n\n                    TimeSearching         TimeAnswering  \\\n0                             NaN                   NaN   \n70                            NaN                   NaN   \n304                           NaN                   NaN   \n733                           NaN                   NaN   \n875                           NaN                   NaN   \n...                           ...                   ...   \n82467                         NaN                   NaN   \n84614         30-60 minutes a day   30-60 minutes a day   \n86686  Less than 15 minutes a day   15-30 minutes a day   \n86795      Over 120 minutes a day  60-120 minutes a day   \n87384                         NaN                   NaN   \n\n                        ProfessionalTech  \\\n0                                    NaN   \n70                                   NaN   \n304                                  NaN   \n733                                  NaN   \n875                                  NaN   \n...                                  ...   \n82467                                NaN   \n84614  DevOps function;Automated testing   \n86686                    DevOps function   \n86795                      None of these   \n87384                                NaN   \n\n                                                Industry  \\\n0                                                    NaN   \n70                                                   NaN   \n304                                                  NaN   \n733                                                  NaN   \n875                                                  NaN   \n...                                                  ...   \n82467                                                NaN   \n84614  Information Services, IT, Software Development...   \n86686                                                NaN   \n86795                                          Wholesale   \n87384                                                NaN   \n\n                SurveyLength                  SurveyEase ConvertedCompYearly  \n0                        NaN                         NaN                 NaN  \n70                       NaN                         NaN                 NaN  \n304                      NaN                         NaN                 NaN  \n733                      NaN                         NaN                 NaN  \n875                      NaN                         NaN                 NaN  \n...                      ...                         ...                 ...  \n82467  Appropriate in length                        Easy            100000.0  \n84614  Appropriate in length  Neither easy nor difficult                 NaN  \n86686               Too long                        Easy            125000.0  \n86795               Too long                        Easy            100000.0  \n87384  Appropriate in length  Neither easy nor difficult                 NaN  \n\n[89184 rows x 84 columns]",
      "text/html": "<div>\n<style scoped>\n    .dataframe tbody tr th:only-of-type {\n        vertical-align: middle;\n    }\n\n    .dataframe tbody tr th {\n        vertical-align: top;\n    }\n\n    .dataframe thead th {\n        text-align: right;\n    }\n</style>\n<table border=\"1\" class=\"dataframe\">\n  <thead>\n    <tr style=\"text-align: right;\">\n      <th></th>\n      <th>ResponseId</th>\n      <th>Q120</th>\n      <th>MainBranch</th>\n      <th>Age</th>\n      <th>Employment</th>\n      <th>RemoteWork</th>\n      <th>CodingActivities</th>\n      <th>EdLevel</th>\n      <th>LearnCode</th>\n      <th>LearnCodeOnline</th>\n      <th>...</th>\n      <th>Frequency_1</th>\n      <th>Frequency_2</th>\n      <th>Frequency_3</th>\n      <th>TimeSearching</th>\n      <th>TimeAnswering</th>\n      <th>ProfessionalTech</th>\n      <th>Industry</th>\n      <th>SurveyLength</th>\n      <th>SurveyEase</th>\n      <th>ConvertedCompYearly</th>\n    </tr>\n  </thead>\n  <tbody>\n    <tr>\n      <th>0</th>\n      <td>1</td>\n      <td>I agree</td>\n      <td>None of these</td>\n      <td>18-24 years old</td>\n      <td>NaN</td>\n      <td>NaN</td>\n      <td>NaN</td>\n      <td>NaN</td>\n      <td>NaN</td>\n      <td>NaN</td>\n      <td>...</td>\n      <td>NaN</td>\n      <td>NaN</td>\n      <td>NaN</td>\n      <td>NaN</td>\n      <td>NaN</td>\n      <td>NaN</td>\n      <td>NaN</td>\n      <td>NaN</td>\n      <td>NaN</td>\n      <td>NaN</td>\n    </tr>\n    <tr>\n      <th>70</th>\n      <td>71</td>\n      <td>I agree</td>\n      <td>None of these</td>\n      <td>45-54 years old</td>\n      <td>NaN</td>\n      <td>NaN</td>\n      <td>NaN</td>\n      <td>NaN</td>\n      <td>NaN</td>\n      <td>NaN</td>\n      <td>...</td>\n      <td>NaN</td>\n      <td>NaN</td>\n      <td>NaN</td>\n      <td>NaN</td>\n      <td>NaN</td>\n      <td>NaN</td>\n      <td>NaN</td>\n      <td>NaN</td>\n      <td>NaN</td>\n      <td>NaN</td>\n    </tr>\n    <tr>\n      <th>304</th>\n      <td>305</td>\n      <td>I agree</td>\n      <td>None of these</td>\n      <td>18-24 years old</td>\n      <td>NaN</td>\n      <td>NaN</td>\n      <td>NaN</td>\n      <td>NaN</td>\n      <td>NaN</td>\n      <td>NaN</td>\n      <td>...</td>\n      <td>NaN</td>\n      <td>NaN</td>\n      <td>NaN</td>\n      <td>NaN</td>\n      <td>NaN</td>\n      <td>NaN</td>\n      <td>NaN</td>\n      <td>NaN</td>\n      <td>NaN</td>\n      <td>NaN</td>\n    </tr>\n    <tr>\n      <th>733</th>\n      <td>734</td>\n      <td>I agree</td>\n      <td>None of these</td>\n      <td>45-54 years old</td>\n      <td>NaN</td>\n      <td>NaN</td>\n      <td>NaN</td>\n      <td>NaN</td>\n      <td>NaN</td>\n      <td>NaN</td>\n      <td>...</td>\n      <td>NaN</td>\n      <td>NaN</td>\n      <td>NaN</td>\n      <td>NaN</td>\n      <td>NaN</td>\n      <td>NaN</td>\n      <td>NaN</td>\n      <td>NaN</td>\n      <td>NaN</td>\n      <td>NaN</td>\n    </tr>\n    <tr>\n      <th>875</th>\n      <td>876</td>\n      <td>I agree</td>\n      <td>None of these</td>\n      <td>45-54 years old</td>\n      <td>NaN</td>\n      <td>NaN</td>\n      <td>NaN</td>\n      <td>NaN</td>\n      <td>NaN</td>\n      <td>NaN</td>\n      <td>...</td>\n      <td>NaN</td>\n      <td>NaN</td>\n      <td>NaN</td>\n      <td>NaN</td>\n      <td>NaN</td>\n      <td>NaN</td>\n      <td>NaN</td>\n      <td>NaN</td>\n      <td>NaN</td>\n      <td>NaN</td>\n    </tr>\n    <tr>\n      <th>...</th>\n      <td>...</td>\n      <td>...</td>\n      <td>...</td>\n      <td>...</td>\n      <td>...</td>\n      <td>...</td>\n      <td>...</td>\n      <td>...</td>\n      <td>...</td>\n      <td>...</td>\n      <td>...</td>\n      <td>...</td>\n      <td>...</td>\n      <td>...</td>\n      <td>...</td>\n      <td>...</td>\n      <td>...</td>\n      <td>...</td>\n      <td>...</td>\n      <td>...</td>\n      <td>...</td>\n    </tr>\n    <tr>\n      <th>82467</th>\n      <td>82468</td>\n      <td>I agree</td>\n      <td>I am a developer by profession</td>\n      <td>65 years or older</td>\n      <td>Independent contractor, freelancer, or self-em...</td>\n      <td>Remote</td>\n      <td>Hobby</td>\n      <td>Master’s degree (M.A., M.S., M.Eng., MBA, etc.)</td>\n      <td>Books / Physical media;Other online resources ...</td>\n      <td>Blogs with tips and tricks;Books;How-to videos...</td>\n      <td>...</td>\n      <td>NaN</td>\n      <td>NaN</td>\n      <td>NaN</td>\n      <td>NaN</td>\n      <td>NaN</td>\n      <td>NaN</td>\n      <td>NaN</td>\n      <td>Appropriate in length</td>\n      <td>Easy</td>\n      <td>100000.0</td>\n    </tr>\n    <tr>\n      <th>84614</th>\n      <td>84615</td>\n      <td>I agree</td>\n      <td>I am a developer by profession</td>\n      <td>55-64 years old</td>\n      <td>Employed, full-time</td>\n      <td>Remote</td>\n      <td>Hobby;Professional development or self-paced l...</td>\n      <td>Some college/university study without earning ...</td>\n      <td>Books / Physical media;Colleague;Friend or fam...</td>\n      <td>Formal documentation provided by the owner of ...</td>\n      <td>...</td>\n      <td>1-2 times a week</td>\n      <td>3-5 times a week</td>\n      <td>Never</td>\n      <td>30-60 minutes a day</td>\n      <td>30-60 minutes a day</td>\n      <td>DevOps function;Automated testing</td>\n      <td>Information Services, IT, Software Development...</td>\n      <td>Appropriate in length</td>\n      <td>Neither easy nor difficult</td>\n      <td>NaN</td>\n    </tr>\n    <tr>\n      <th>86686</th>\n      <td>86687</td>\n      <td>I agree</td>\n      <td>I am a developer by profession</td>\n      <td>65 years or older</td>\n      <td>Employed, full-time</td>\n      <td>Remote</td>\n      <td>Hobby;Professional development or self-paced l...</td>\n      <td>Bachelor’s degree (B.A., B.S., B.Eng., etc.)</td>\n      <td>Online Courses or Certification;Other online r...</td>\n      <td>Formal documentation provided by the owner of ...</td>\n      <td>...</td>\n      <td>1-2 times a week</td>\n      <td>3-5 times a week</td>\n      <td>Never</td>\n      <td>Less than 15 minutes a day</td>\n      <td>15-30 minutes a day</td>\n      <td>DevOps function</td>\n      <td>NaN</td>\n      <td>Too long</td>\n      <td>Easy</td>\n      <td>125000.0</td>\n    </tr>\n    <tr>\n      <th>86795</th>\n      <td>86796</td>\n      <td>I agree</td>\n      <td>I am a developer by profession</td>\n      <td>65 years or older</td>\n      <td>Employed, full-time</td>\n      <td>Remote</td>\n      <td>Hobby;Contribute to open-source projects;Profe...</td>\n      <td>Master’s degree (M.A., M.S., M.Eng., MBA, etc.)</td>\n      <td>Books / Physical media;On the job training;Oth...</td>\n      <td>Formal documentation provided by the owner of ...</td>\n      <td>...</td>\n      <td>1-2 times a week</td>\n      <td>1-2 times a week</td>\n      <td>1-2 times a week</td>\n      <td>Over 120 minutes a day</td>\n      <td>60-120 minutes a day</td>\n      <td>None of these</td>\n      <td>Wholesale</td>\n      <td>Too long</td>\n      <td>Easy</td>\n      <td>100000.0</td>\n    </tr>\n    <tr>\n      <th>87384</th>\n      <td>87385</td>\n      <td>I agree</td>\n      <td>I am a developer by profession</td>\n      <td>65 years or older</td>\n      <td>Independent contractor, freelancer, or self-em...</td>\n      <td>Remote</td>\n      <td>Hobby;Contribute to open-source projects;Boots...</td>\n      <td>Bachelor’s degree (B.A., B.S., B.Eng., etc.)</td>\n      <td>Books / Physical media;Other online resources ...</td>\n      <td>Formal documentation provided by the owner of ...</td>\n      <td>...</td>\n      <td>NaN</td>\n      <td>NaN</td>\n      <td>NaN</td>\n      <td>NaN</td>\n      <td>NaN</td>\n      <td>NaN</td>\n      <td>NaN</td>\n      <td>Appropriate in length</td>\n      <td>Neither easy nor difficult</td>\n      <td>NaN</td>\n    </tr>\n  </tbody>\n</table>\n<p>89184 rows × 84 columns</p>\n</div>"
     },
     "execution_count": 20,
     "metadata": {},
     "output_type": "execute_result"
    }
   ],
   "source": [
    "df = pd.read_csv('survey_results_public.csv')\n",
    "df.sort_values(by=['RemoteWork', 'YearsCode'], na_position='first')"
   ],
   "metadata": {
    "collapsed": false,
    "ExecuteTime": {
     "start_time": "2024-04-11T18:38:37.560201200Z"
    }
   },
   "id": "a6c0bb06d482193a"
  },
  {
   "cell_type": "markdown",
   "source": [
    "Using Static functions for 'ConvertedCompYearly' column"
   ],
   "metadata": {
    "collapsed": false
   },
   "id": "bb8cfb99b4eeb1a9"
  },
  {
   "cell_type": "code",
   "execution_count": 30,
   "outputs": [
    {
     "data": {
      "text/plain": "(103110.08171765343, 681418.8387120209, 74963.0, 1.0, 74351432.0)"
     },
     "execution_count": 30,
     "metadata": {},
     "output_type": "execute_result"
    }
   ],
   "source": [
    "salary = df['ConvertedCompYearly']\n",
    "salary.mean(), salary.std(), salary.median(), salary.min(), salary.max()"
   ],
   "metadata": {
    "collapsed": false,
    "ExecuteTime": {
     "end_time": "2024-04-11T19:04:40.143086100Z",
     "start_time": "2024-04-11T19:04:40.084978500Z"
    }
   },
   "id": "d5dea2570997edfd"
  },
  {
   "cell_type": "raw",
   "source": [
    "Displaying info using charts"
   ],
   "metadata": {
    "collapsed": false
   },
   "id": "f08e7aaf242f9229"
  },
  {
   "cell_type": "code",
   "execution_count": null,
   "outputs": [],
   "source": [
    "import numpy as np \n",
    "import matplotlib.pyplot as plt\n",
    "df = pd.read_csv('survey_results_public.csv')\n",
    "salary = df['ConvertedCompYearly']\n",
    "salary.plot(salary)\n",
    "\n",
    "plt.show()"
   ],
   "metadata": {
    "collapsed": false
   },
   "id": "6f8bbac508158389"
  },
  {
   "cell_type": "code",
   "execution_count": null,
   "outputs": [],
   "source": [
    "df = pd.read_csv('survey_results_public.csv')\n",
    "salary = df['ConvertedCompYearly']\n",
    "salary.plot(kind='bar')\n",
    "\n",
    "plt.show()"
   ],
   "metadata": {
    "collapsed": false
   },
   "id": "7912e2e9d7f1f03c"
  }
 ],
 "metadata": {
  "kernelspec": {
   "display_name": "Python 3",
   "language": "python",
   "name": "python3"
  },
  "language_info": {
   "codemirror_mode": {
    "name": "ipython",
    "version": 2
   },
   "file_extension": ".py",
   "mimetype": "text/x-python",
   "name": "python",
   "nbconvert_exporter": "python",
   "pygments_lexer": "ipython2",
   "version": "2.7.6"
  }
 },
 "nbformat": 4,
 "nbformat_minor": 5
}
